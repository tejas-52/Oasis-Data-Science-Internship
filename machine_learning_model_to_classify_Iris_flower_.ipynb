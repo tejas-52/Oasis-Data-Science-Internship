{
  "nbformat": 4,
  "nbformat_minor": 0,
  "metadata": {
    "colab": {
      "provenance": [],
      "authorship_tag": "ABX9TyNzPsWFr4Lx/rQU8XxKMvAf",
      "include_colab_link": true
    },
    "kernelspec": {
      "name": "python3",
      "display_name": "Python 3"
    },
    "language_info": {
      "name": "python"
    }
  },
  "cells": [
    {
      "cell_type": "markdown",
      "metadata": {
        "id": "view-in-github",
        "colab_type": "text"
      },
      "source": [
        "<a href=\"https://colab.research.google.com/github/tejas-52/Oasis-Data-Science-Internship/blob/main/machine_learning_model_to_classify_Iris_flower_.ipynb\" target=\"_parent\"><img src=\"https://colab.research.google.com/assets/colab-badge.svg\" alt=\"Open In Colab\"/></a>"
      ]
    },
    {
      "cell_type": "markdown",
      "source": [
        "\n",
        "# **Objective**"
      ],
      "metadata": {
        "id": "6wdNZen_bkvN"
      }
    },
    {
      "cell_type": "markdown",
      "source": [
        "**The objective of this project is to develop a robust and accurate machine learning model capable of classifying iris flowers into one of the three species: Setosa, Versicolor, and Virginica, based on their measured characteristics (sepal length, sepal width, petal length, and petal width). By leveraging the Iris dataset and employing techniques such as data preprocessing, feature scaling, and model evaluation, we aim to achieve a high level of classification accuracy. Additionally, we will evaluate the model's performance using appropriate metrics and visualize the importance of each feature in the classification process. This project serves as an exercise in applying machine learning methodologies to a well-known classification problem, thereby enhancing understanding and proficiency in data science practices.t**"
      ],
      "metadata": {
        "id": "w1wvrftGbo-N"
      }
    },
    {
      "cell_type": "markdown",
      "source": [
        "# Import Library-\n"
      ],
      "metadata": {
        "id": "L52yK0Y7YQqE"
      }
    },
    {
      "cell_type": "code",
      "source": [
        "import pandas as pd\n",
        "import numpy as np\n",
        "import matplotlib.pyplot as plt\n",
        "import seaborn as sns\n",
        "from sklearn.model_selection import train_test_split\n",
        "from sklearn.preprocessing import StandardScaler\n",
        "from sklearn.ensemble import RandomForestClassifier\n",
        "from sklearn.metrics import classification_report, confusion_matrix, accuracy_score\n"
      ],
      "metadata": {
        "id": "Hm6dqxjJZPL7"
      },
      "execution_count": 15,
      "outputs": []
    },
    {
      "cell_type": "markdown",
      "source": [
        "# Import Data"
      ],
      "metadata": {
        "id": "YbEFqqsuZUb0"
      }
    },
    {
      "cell_type": "code",
      "source": [
        "url = 'https://github.com/tejas-52/Oasis-Data-Science-Internship/raw/main/Iris.csv'\n",
        "iris_data = pd.read_csv(url)"
      ],
      "metadata": {
        "id": "tEdB1xdiZZ2M"
      },
      "execution_count": 16,
      "outputs": []
    },
    {
      "cell_type": "code",
      "source": [
        "# Display the first few rows of the dataset\n",
        "print(iris_data.head())\n",
        "\n",
        "# Get a summary of the dataset\n",
        "print(iris_data.info())\n",
        "\n",
        "# Check for missing values\n",
        "print(iris_data.isnull().sum())\n"
      ],
      "metadata": {
        "colab": {
          "base_uri": "https://localhost:8080/"
        },
        "id": "5VP2pyR_ZeLM",
        "outputId": "d8b83dec-0b35-4e6c-e4f7-ef0a58e5c9bf"
      },
      "execution_count": 9,
      "outputs": [
        {
          "output_type": "stream",
          "name": "stdout",
          "text": [
            "   Id  SepalLengthCm  SepalWidthCm  PetalLengthCm  PetalWidthCm      Species\n",
            "0   1            5.1           3.5            1.4           0.2  Iris-setosa\n",
            "1   2            4.9           3.0            1.4           0.2  Iris-setosa\n",
            "2   3            4.7           3.2            1.3           0.2  Iris-setosa\n",
            "3   4            4.6           3.1            1.5           0.2  Iris-setosa\n",
            "4   5            5.0           3.6            1.4           0.2  Iris-setosa\n",
            "<class 'pandas.core.frame.DataFrame'>\n",
            "RangeIndex: 150 entries, 0 to 149\n",
            "Data columns (total 6 columns):\n",
            " #   Column         Non-Null Count  Dtype  \n",
            "---  ------         --------------  -----  \n",
            " 0   Id             150 non-null    int64  \n",
            " 1   SepalLengthCm  150 non-null    float64\n",
            " 2   SepalWidthCm   150 non-null    float64\n",
            " 3   PetalLengthCm  150 non-null    float64\n",
            " 4   PetalWidthCm   150 non-null    float64\n",
            " 5   Species        150 non-null    object \n",
            "dtypes: float64(4), int64(1), object(1)\n",
            "memory usage: 7.2+ KB\n",
            "None\n",
            "Id               0\n",
            "SepalLengthCm    0\n",
            "SepalWidthCm     0\n",
            "PetalLengthCm    0\n",
            "PetalWidthCm     0\n",
            "Species          0\n",
            "dtype: int64\n"
          ]
        }
      ]
    },
    {
      "cell_type": "markdown",
      "source": [
        "# Data Preprocessing"
      ],
      "metadata": {
        "id": "lcIe5Q9SZoP2"
      }
    },
    {
      "cell_type": "code",
      "source": [
        "# Drop the 'Id' column as it's not necessary for classification\n",
        "iris_data = iris_data.drop(columns=['Id'])\n",
        "\n",
        "# Separate features and target variable\n",
        "X = iris_data.drop(columns=['Species'])\n",
        "y = iris_data['Species']\n",
        "\n",
        "# Split the dataset into training and testing sets\n",
        "X_train, X_test, y_train, y_test = train_test_split(X, y, test_size=0.2, random_state=42)\n",
        "\n",
        "# Standardize the features\n",
        "scaler = StandardScaler()\n",
        "X_train = scaler.fit_transform(X_train)\n",
        "X_test = scaler.transform(X_test)\n"
      ],
      "metadata": {
        "id": "l-BOiCJUZpmU"
      },
      "execution_count": 10,
      "outputs": []
    },
    {
      "cell_type": "markdown",
      "source": [
        "# Train the Model"
      ],
      "metadata": {
        "id": "PAuLbG_ZZw66"
      }
    },
    {
      "cell_type": "code",
      "source": [
        "# Initialize the model\n",
        "model = RandomForestClassifier(n_estimators=100, random_state=42)\n",
        "\n",
        "# Train the model\n",
        "model.fit(X_train, y_train)\n"
      ],
      "metadata": {
        "colab": {
          "base_uri": "https://localhost:8080/",
          "height": 74
        },
        "id": "FmAWAhlzZzOg",
        "outputId": "5e02808e-8cf5-4e11-d14f-2761db25d91e"
      },
      "execution_count": 11,
      "outputs": [
        {
          "output_type": "execute_result",
          "data": {
            "text/plain": [
              "RandomForestClassifier(random_state=42)"
            ],
            "text/html": [
              "<style>#sk-container-id-1 {color: black;background-color: white;}#sk-container-id-1 pre{padding: 0;}#sk-container-id-1 div.sk-toggleable {background-color: white;}#sk-container-id-1 label.sk-toggleable__label {cursor: pointer;display: block;width: 100%;margin-bottom: 0;padding: 0.3em;box-sizing: border-box;text-align: center;}#sk-container-id-1 label.sk-toggleable__label-arrow:before {content: \"▸\";float: left;margin-right: 0.25em;color: #696969;}#sk-container-id-1 label.sk-toggleable__label-arrow:hover:before {color: black;}#sk-container-id-1 div.sk-estimator:hover label.sk-toggleable__label-arrow:before {color: black;}#sk-container-id-1 div.sk-toggleable__content {max-height: 0;max-width: 0;overflow: hidden;text-align: left;background-color: #f0f8ff;}#sk-container-id-1 div.sk-toggleable__content pre {margin: 0.2em;color: black;border-radius: 0.25em;background-color: #f0f8ff;}#sk-container-id-1 input.sk-toggleable__control:checked~div.sk-toggleable__content {max-height: 200px;max-width: 100%;overflow: auto;}#sk-container-id-1 input.sk-toggleable__control:checked~label.sk-toggleable__label-arrow:before {content: \"▾\";}#sk-container-id-1 div.sk-estimator input.sk-toggleable__control:checked~label.sk-toggleable__label {background-color: #d4ebff;}#sk-container-id-1 div.sk-label input.sk-toggleable__control:checked~label.sk-toggleable__label {background-color: #d4ebff;}#sk-container-id-1 input.sk-hidden--visually {border: 0;clip: rect(1px 1px 1px 1px);clip: rect(1px, 1px, 1px, 1px);height: 1px;margin: -1px;overflow: hidden;padding: 0;position: absolute;width: 1px;}#sk-container-id-1 div.sk-estimator {font-family: monospace;background-color: #f0f8ff;border: 1px dotted black;border-radius: 0.25em;box-sizing: border-box;margin-bottom: 0.5em;}#sk-container-id-1 div.sk-estimator:hover {background-color: #d4ebff;}#sk-container-id-1 div.sk-parallel-item::after {content: \"\";width: 100%;border-bottom: 1px solid gray;flex-grow: 1;}#sk-container-id-1 div.sk-label:hover label.sk-toggleable__label {background-color: #d4ebff;}#sk-container-id-1 div.sk-serial::before {content: \"\";position: absolute;border-left: 1px solid gray;box-sizing: border-box;top: 0;bottom: 0;left: 50%;z-index: 0;}#sk-container-id-1 div.sk-serial {display: flex;flex-direction: column;align-items: center;background-color: white;padding-right: 0.2em;padding-left: 0.2em;position: relative;}#sk-container-id-1 div.sk-item {position: relative;z-index: 1;}#sk-container-id-1 div.sk-parallel {display: flex;align-items: stretch;justify-content: center;background-color: white;position: relative;}#sk-container-id-1 div.sk-item::before, #sk-container-id-1 div.sk-parallel-item::before {content: \"\";position: absolute;border-left: 1px solid gray;box-sizing: border-box;top: 0;bottom: 0;left: 50%;z-index: -1;}#sk-container-id-1 div.sk-parallel-item {display: flex;flex-direction: column;z-index: 1;position: relative;background-color: white;}#sk-container-id-1 div.sk-parallel-item:first-child::after {align-self: flex-end;width: 50%;}#sk-container-id-1 div.sk-parallel-item:last-child::after {align-self: flex-start;width: 50%;}#sk-container-id-1 div.sk-parallel-item:only-child::after {width: 0;}#sk-container-id-1 div.sk-dashed-wrapped {border: 1px dashed gray;margin: 0 0.4em 0.5em 0.4em;box-sizing: border-box;padding-bottom: 0.4em;background-color: white;}#sk-container-id-1 div.sk-label label {font-family: monospace;font-weight: bold;display: inline-block;line-height: 1.2em;}#sk-container-id-1 div.sk-label-container {text-align: center;}#sk-container-id-1 div.sk-container {/* jupyter's `normalize.less` sets `[hidden] { display: none; }` but bootstrap.min.css set `[hidden] { display: none !important; }` so we also need the `!important` here to be able to override the default hidden behavior on the sphinx rendered scikit-learn.org. See: https://github.com/scikit-learn/scikit-learn/issues/21755 */display: inline-block !important;position: relative;}#sk-container-id-1 div.sk-text-repr-fallback {display: none;}</style><div id=\"sk-container-id-1\" class=\"sk-top-container\"><div class=\"sk-text-repr-fallback\"><pre>RandomForestClassifier(random_state=42)</pre><b>In a Jupyter environment, please rerun this cell to show the HTML representation or trust the notebook. <br />On GitHub, the HTML representation is unable to render, please try loading this page with nbviewer.org.</b></div><div class=\"sk-container\" hidden><div class=\"sk-item\"><div class=\"sk-estimator sk-toggleable\"><input class=\"sk-toggleable__control sk-hidden--visually\" id=\"sk-estimator-id-1\" type=\"checkbox\" checked><label for=\"sk-estimator-id-1\" class=\"sk-toggleable__label sk-toggleable__label-arrow\">RandomForestClassifier</label><div class=\"sk-toggleable__content\"><pre>RandomForestClassifier(random_state=42)</pre></div></div></div></div></div>"
            ]
          },
          "metadata": {},
          "execution_count": 11
        }
      ]
    },
    {
      "cell_type": "markdown",
      "source": [
        "# Evaluate the Model"
      ],
      "metadata": {
        "id": "Y3IBjenrZ45i"
      }
    },
    {
      "cell_type": "code",
      "source": [
        "# Make predictions\n",
        "y_pred = model.predict(X_test)\n",
        "\n",
        "# Evaluate the model\n",
        "print(\"Confusion Matrix:\")\n",
        "print(confusion_matrix(y_test, y_pred))\n",
        "\n",
        "print(\"\\nClassification Report:\")\n",
        "print(classification_report(y_test, y_pred))\n",
        "\n",
        "print(\"\\nAccuracy Score:\")\n",
        "print(accuracy_score(y_test, y_pred))\n"
      ],
      "metadata": {
        "colab": {
          "base_uri": "https://localhost:8080/"
        },
        "id": "ATwwcqFbZ7m9",
        "outputId": "b8ffb7aa-520f-450c-a92f-f22e9f9c286a"
      },
      "execution_count": 12,
      "outputs": [
        {
          "output_type": "stream",
          "name": "stdout",
          "text": [
            "Confusion Matrix:\n",
            "[[10  0  0]\n",
            " [ 0  9  0]\n",
            " [ 0  0 11]]\n",
            "\n",
            "Classification Report:\n",
            "                 precision    recall  f1-score   support\n",
            "\n",
            "    Iris-setosa       1.00      1.00      1.00        10\n",
            "Iris-versicolor       1.00      1.00      1.00         9\n",
            " Iris-virginica       1.00      1.00      1.00        11\n",
            "\n",
            "       accuracy                           1.00        30\n",
            "      macro avg       1.00      1.00      1.00        30\n",
            "   weighted avg       1.00      1.00      1.00        30\n",
            "\n",
            "\n",
            "Accuracy Score:\n",
            "1.0\n"
          ]
        }
      ]
    },
    {
      "cell_type": "markdown",
      "source": [
        "# Visualize Results"
      ],
      "metadata": {
        "id": "Kph9_3TKaAuX"
      }
    },
    {
      "cell_type": "code",
      "source": [
        "# Get feature importances\n",
        "feature_importances = model.feature_importances_\n",
        "features = X.columns\n",
        "\n",
        "# Create a DataFrame for visualization\n",
        "importance_df = pd.DataFrame({'Feature': features, 'Importance': feature_importances})\n",
        "\n",
        "# Sort the DataFrame by importance\n",
        "importance_df = importance_df.sort_values(by='Importance', ascending=False)\n",
        "\n",
        "# Plot the feature importances\n",
        "sns.barplot(x='Importance', y='Feature', data=importance_df)\n",
        "plt.title('Feature Importances')\n",
        "plt.show()\n"
      ],
      "metadata": {
        "colab": {
          "base_uri": "https://localhost:8080/",
          "height": 472
        },
        "id": "lTFTw48zaCCJ",
        "outputId": "b072401d-966f-46e8-a170-74aa104b49ca"
      },
      "execution_count": 18,
      "outputs": [
        {
          "output_type": "display_data",
          "data": {
            "text/plain": [
              "<Figure size 640x480 with 1 Axes>"
            ],
            "image/png": "[encoded data removed]"
          },
          "metadata": {}
        }
      ]
    },
    {
      "cell_type": "markdown",
      "source": [
        "# Save the Model (Optional)"
      ],
      "metadata": {
        "id": "GXxMbq1BaHwU"
      }
    },
    {
      "cell_type": "code",
      "source": [
        "import joblib\n",
        "\n",
        "# Save the model\n",
        "joblib.dump(model, 'iris_model.pkl')\n",
        "\n",
        "# Load the model\n",
        "# model = joblib.load('iris_model.pkl')\n"
      ],
      "metadata": {
        "colab": {
          "base_uri": "https://localhost:8080/"
        },
        "id": "KnN4FuyLaI_X",
        "outputId": "c0985c5f-4537-4566-fa11-32eb2f046b9b"
      },
      "execution_count": 20,
      "outputs": [
        {
          "output_type": "execute_result",
          "data": {
            "text/plain": [
              "['iris_model.pkl']"
            ]
          },
          "metadata": {},
          "execution_count": 20
        }
      ]
    },
    {
      "cell_type": "markdown",
      "source": [
        "# Explanation of the Project\n"
      ],
      "metadata": {
        "id": "wwOLar-4b3j-"
      }
    },
    {
      "cell_type": "markdown",
      "source": [
        "\n",
        "This project involves building a machine learning model to classify iris flowers into one of three species: Setosa, Versicolor, and Virginica. The classification is based on four key features: sepal length, sepal width, petal length, and petal width. The project leverages the well-known Iris dataset, which is commonly used for benchmarking classification algorithms.\n",
        "\n",
        "Here's a detailed breakdown of the project's steps:\n",
        "\n",
        "#### 1. **Setup and Import Libraries**\n",
        "We start by setting up the environment in Google Colab and importing necessary libraries such as Pandas for data manipulation, Numpy for numerical operations, Matplotlib and Seaborn for data visualization, and Scikit-learn for building and evaluating the machine learning model.\n",
        "\n",
        "#### 2. **Load the Dataset**\n",
        "The dataset is loaded directly from a provided URL. The dataset is in CSV format, and we use Pandas to read it into a DataFrame. This dataset contains measurements of iris flowers along with their species.\n",
        "\n",
        "#### 3. **Explore the Dataset**\n",
        "Exploratory Data Analysis (EDA) is performed to understand the structure and contents of the dataset. We inspect the first few rows, check for any missing values, and get a summary of the data to understand its characteristics.\n",
        "\n",
        "#### 4. **Data Preprocessing**\n",
        "Data preprocessing involves several steps:\n",
        "   - Dropping unnecessary columns (e.g., the 'Id' column).\n",
        "   - Separating the features (measurements) from the target variable (species).\n",
        "   - Splitting the data into training and testing sets to evaluate the model's performance.\n",
        "   - Standardizing the feature values to ensure they have a mean of 0 and a standard deviation of 1, which helps in improving the performance of many machine learning algorithms.\n",
        "\n",
        "#### 5. **Train the Model**\n",
        "A Random Forest Classifier, which is an ensemble learning method, is chosen for its robustness and accuracy. The model is trained on the training dataset, learning the relationships between the features and the target species.\n",
        "\n",
        "#### 6. **Evaluate the Model**\n",
        "The trained model is then evaluated on the testing dataset. Several metrics are used for evaluation:\n",
        "   - **Confusion Matrix:** Shows the number of correct and incorrect predictions for each class.\n",
        "   - **Classification Report:** Provides precision, recall, and F1-score for each class.\n",
        "   - **Accuracy Score:** The overall accuracy of the model.\n",
        "\n",
        "These metrics help in understanding how well the model performs in classifying the iris species.\n",
        "\n",
        "#### 7. **Visualize Results**\n",
        "(Optional) Feature importances are visualized to understand which features contribute the most to the model's decisions. This is done using a bar plot, providing insights into the significance of each measurement in the classification process.\n",
        "\n",
        "#### 8. **Save the Model**\n",
        "(Optional) The trained model is saved using Joblib, allowing for future use without the need to retrain. This step is useful for deployment in a real-world application.\n",
        "\n",
        "### Summary\n",
        "\n",
        "The project demonstrates the end-to-end process of building a machine learning model for a classification task, from data loading and preprocessing to model training, evaluation, and visualization. It serves as a practical exercise in applying machine learning techniques to solve a specific problem, enhancing understanding and proficiency in data science. By successfully classifying iris flowers, we showcase the effectiveness of machine learning in making accurate predictions based on given data."
      ],
      "metadata": {
        "id": "IvL5Bp0fcUaB"
      }
    }
  ]
}