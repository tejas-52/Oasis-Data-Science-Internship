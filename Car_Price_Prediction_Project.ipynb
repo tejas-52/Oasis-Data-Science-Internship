{
  "nbformat": 4,
  "nbformat_minor": 0,
  "metadata": {
    "colab": {
      "provenance": [],
      "authorship_tag": "ABX9TyM6kax5AnjcABUJEa2UZumC",
      "include_colab_link": true
    },
    "kernelspec": {
      "name": "python3",
      "display_name": "Python 3"
    },
    "language_info": {
      "name": "python"
    }
  },
  "cells": [
    {
      "cell_type": "markdown",
      "metadata": {
        "id": "view-in-github",
        "colab_type": "text"
      },
      "source": [
        "<a href=\"https://colab.research.google.com/github/tejas-52/Oasis-Data-Science-Internship/blob/main/Car_Price_Prediction_Project.ipynb\" target=\"_parent\"><img src=\"https://colab.research.google.com/assets/colab-badge.svg\" alt=\"Open In Colab\"/></a>"
      ]
    },
    {
      "cell_type": "markdown",
      "source": [
        "# ***Car Price Prediction Project***"
      ],
      "metadata": {
        "id": "0GOp_xFpvyCx"
      }
    },
    {
      "cell_type": "markdown",
      "source": [
        "# Objectives of the Car Price Prediction Project"
      ],
      "metadata": {
        "id": "HVp4BSHEuFDv"
      }
    },
    {
      "cell_type": "markdown",
      "source": [
        "\n",
        "1. **Data Exploration:** Explore the dataset to understand the features and their relationships with the target variable (selling price).\n",
        "\n",
        "2. **Data Preprocessing:** Clean the data by handling missing values, encoding categorical variables, and preparing it for model training.\n",
        "\n",
        "3. **Feature Engineering:** Extract relevant features or create new features that may improve the model's performance in predicting car prices.\n",
        "\n",
        "4. **Model Selection:** Choose appropriate machine learning algorithms for regression tasks, considering factors such as interpretability, accuracy, and scalability.\n",
        "\n",
        "5. **Model Training:** Train the selected regression model using the training data, optimizing hyperparameters to achieve the best performance.\n",
        "\n",
        "6. **Model Evaluation:** Evaluate the trained model's performance using appropriate metrics such as mean squared error (MSE) and R-squared to assess its predictive accuracy.\n",
        "\n",
        "7. **Model Interpretation:** Interpret the model coefficients or feature importances to understand which features have the most significant impact on predicting car prices.\n",
        "\n",
        "8. **Fine-tuning and Optimization:** Fine-tune the model parameters or explore ensemble methods to further improve predictive performance.\n",
        "\n",
        "9. **Validation and Testing:** Validate the model's performance on unseen data (test set) to ensure generalization and assess its robustness.\n",
        "\n",
        "10. **Deployment and Integration:** If applicable, deploy the trained model in a production environment or integrate it into a web application or API for real-world use.\n",
        "\n",
        "11. **Documentation and Reporting:** Document the entire process, including data preprocessing steps, model training details, evaluation results, and insights gained from the analysis. Provide a comprehensive report summarizing the project's objectives, methodology, findings, and recommendations.\n",
        "\n",
        "12. **Continuous Improvement:** Iterate on the model based on feedback and new data, continuously improving its performance and relevance to real-world scenarios.\n"
      ],
      "metadata": {
        "id": "nmqLsHavuIZL"
      }
    },
    {
      "cell_type": "markdown",
      "source": [
        "# Import Libraries"
      ],
      "metadata": {
        "id": "6BzcZHT0sjyM"
      }
    },
    {
      "cell_type": "code",
      "execution_count": 1,
      "metadata": {
        "id": "KO2Hi4lIrv0E"
      },
      "outputs": [],
      "source": [
        "import pandas as pd\n",
        "import numpy as np\n",
        "import matplotlib.pyplot as plt\n",
        "import seaborn as sns\n",
        "from sklearn.model_selection import train_test_split\n",
        "from sklearn.linear_model import LinearRegression\n",
        "from sklearn.metrics import mean_squared_error, r2_score\n"
      ]
    },
    {
      "cell_type": "markdown",
      "source": [
        "# Load the Dataset"
      ],
      "metadata": {
        "id": "jMo19nAHsqin"
      }
    },
    {
      "cell_type": "code",
      "source": [
        "url = 'https://github.com/tejas-52/Oasis-Data-Science-Internship/raw/main/car%20data.csv'\n",
        "car_data = pd.read_csv(url)\n"
      ],
      "metadata": {
        "id": "XeoPE0ESssse"
      },
      "execution_count": 2,
      "outputs": []
    },
    {
      "cell_type": "markdown",
      "source": [
        "# Explore the Dataset"
      ],
      "metadata": {
        "id": "5eADeiccsvbz"
      }
    },
    {
      "cell_type": "code",
      "source": [
        "# Display the first few rows of the dataset\n",
        "print(car_data.head())\n",
        "\n",
        "# Get a summary of the dataset\n",
        "print(car_data.info())\n",
        "\n",
        "# Check for missing values\n",
        "print(car_data.isnull().sum())\n",
        "\n",
        "# Get basic statistics of numerical columns\n",
        "print(car_data.describe())\n"
      ],
      "metadata": {
        "colab": {
          "base_uri": "https://localhost:8080/"
        },
        "id": "5Ax1gH6rsxmb",
        "outputId": "a11bd699-33bf-45eb-ddba-0b68a1c123bc"
      },
      "execution_count": 3,
      "outputs": [
        {
          "output_type": "stream",
          "name": "stdout",
          "text": [
            "  Car_Name  Year  Selling_Price  Present_Price  Driven_kms Fuel_Type  \\\n",
            "0     ritz  2014           3.35           5.59       27000    Petrol   \n",
            "1      sx4  2013           4.75           9.54       43000    Diesel   \n",
            "2     ciaz  2017           7.25           9.85        6900    Petrol   \n",
            "3  wagon r  2011           2.85           4.15        5200    Petrol   \n",
            "4    swift  2014           4.60           6.87       42450    Diesel   \n",
            "\n",
            "  Selling_type Transmission  Owner  \n",
            "0       Dealer       Manual      0  \n",
            "1       Dealer       Manual      0  \n",
            "2       Dealer       Manual      0  \n",
            "3       Dealer       Manual      0  \n",
            "4       Dealer       Manual      0  \n",
            "<class 'pandas.core.frame.DataFrame'>\n",
            "RangeIndex: 301 entries, 0 to 300\n",
            "Data columns (total 9 columns):\n",
            " #   Column         Non-Null Count  Dtype  \n",
            "---  ------         --------------  -----  \n",
            " 0   Car_Name       301 non-null    object \n",
            " 1   Year           301 non-null    int64  \n",
            " 2   Selling_Price  301 non-null    float64\n",
            " 3   Present_Price  301 non-null    float64\n",
            " 4   Driven_kms     301 non-null    int64  \n",
            " 5   Fuel_Type      301 non-null    object \n",
            " 6   Selling_type   301 non-null    object \n",
            " 7   Transmission   301 non-null    object \n",
            " 8   Owner          301 non-null    int64  \n",
            "dtypes: float64(2), int64(3), object(4)\n",
            "memory usage: 21.3+ KB\n",
            "None\n",
            "Car_Name         0\n",
            "Year             0\n",
            "Selling_Price    0\n",
            "Present_Price    0\n",
            "Driven_kms       0\n",
            "Fuel_Type        0\n",
            "Selling_type     0\n",
            "Transmission     0\n",
            "Owner            0\n",
            "dtype: int64\n",
            "              Year  Selling_Price  Present_Price     Driven_kms       Owner\n",
            "count   301.000000     301.000000     301.000000     301.000000  301.000000\n",
            "mean   2013.627907       4.661296       7.628472   36947.205980    0.043189\n",
            "std       2.891554       5.082812       8.642584   38886.883882    0.247915\n",
            "min    2003.000000       0.100000       0.320000     500.000000    0.000000\n",
            "25%    2012.000000       0.900000       1.200000   15000.000000    0.000000\n",
            "50%    2014.000000       3.600000       6.400000   32000.000000    0.000000\n",
            "75%    2016.000000       6.000000       9.900000   48767.000000    0.000000\n",
            "max    2018.000000      35.000000      92.600000  500000.000000    3.000000\n"
          ]
        }
      ]
    },
    {
      "cell_type": "markdown",
      "source": [
        "# Data Preprocessing"
      ],
      "metadata": {
        "id": "GZHFGcrHs2CJ"
      }
    },
    {
      "cell_type": "code",
      "source": [
        "# Drop any rows with missing values\n",
        "car_data.dropna(inplace=True)\n",
        "\n",
        "# Convert categorical variables to dummy/indicator variables\n",
        "car_data = pd.get_dummies(car_data, drop_first=True)\n"
      ],
      "metadata": {
        "id": "D6ulflODs4gD"
      },
      "execution_count": 4,
      "outputs": []
    },
    {
      "cell_type": "markdown",
      "source": [
        "# Split Data into Training and Testing Sets\n",
        "\n"
      ],
      "metadata": {
        "id": "Fhy8t7Hos6HB"
      }
    },
    {
      "cell_type": "code",
      "source": [
        "X = car_data.drop(columns=['Selling_Price'])\n",
        "y = car_data['Selling_Price']\n",
        "X_train, X_test, y_train, y_test = train_test_split(X, y, test_size=0.2, random_state=42)\n"
      ],
      "metadata": {
        "id": "ZfH1v50ctD-J"
      },
      "execution_count": 5,
      "outputs": []
    },
    {
      "cell_type": "markdown",
      "source": [
        "# Train the Model"
      ],
      "metadata": {
        "id": "J7hTLchCtIki"
      }
    },
    {
      "cell_type": "code",
      "source": [
        "model = LinearRegression()\n",
        "model.fit(X_train, y_train)\n"
      ],
      "metadata": {
        "colab": {
          "base_uri": "https://localhost:8080/",
          "height": 74
        },
        "id": "onNmwlmFtOQS",
        "outputId": "549be669-8fd0-4e06-c7b5-01f57949ab2d"
      },
      "execution_count": 6,
      "outputs": [
        {
          "output_type": "execute_result",
          "data": {
            "text/plain": [
              "LinearRegression()"
            ],
            "text/html": [
              "<style>#sk-container-id-1 {color: black;background-color: white;}#sk-container-id-1 pre{padding: 0;}#sk-container-id-1 div.sk-toggleable {background-color: white;}#sk-container-id-1 label.sk-toggleable__label {cursor: pointer;display: block;width: 100%;margin-bottom: 0;padding: 0.3em;box-sizing: border-box;text-align: center;}#sk-container-id-1 label.sk-toggleable__label-arrow:before {content: \"▸\";float: left;margin-right: 0.25em;color: #696969;}#sk-container-id-1 label.sk-toggleable__label-arrow:hover:before {color: black;}#sk-container-id-1 div.sk-estimator:hover label.sk-toggleable__label-arrow:before {color: black;}#sk-container-id-1 div.sk-toggleable__content {max-height: 0;max-width: 0;overflow: hidden;text-align: left;background-color: #f0f8ff;}#sk-container-id-1 div.sk-toggleable__content pre {margin: 0.2em;color: black;border-radius: 0.25em;background-color: #f0f8ff;}#sk-container-id-1 input.sk-toggleable__control:checked~div.sk-toggleable__content {max-height: 200px;max-width: 100%;overflow: auto;}#sk-container-id-1 input.sk-toggleable__control:checked~label.sk-toggleable__label-arrow:before {content: \"▾\";}#sk-container-id-1 div.sk-estimator input.sk-toggleable__control:checked~label.sk-toggleable__label {background-color: #d4ebff;}#sk-container-id-1 div.sk-label input.sk-toggleable__control:checked~label.sk-toggleable__label {background-color: #d4ebff;}#sk-container-id-1 input.sk-hidden--visually {border: 0;clip: rect(1px 1px 1px 1px);clip: rect(1px, 1px, 1px, 1px);height: 1px;margin: -1px;overflow: hidden;padding: 0;position: absolute;width: 1px;}#sk-container-id-1 div.sk-estimator {font-family: monospace;background-color: #f0f8ff;border: 1px dotted black;border-radius: 0.25em;box-sizing: border-box;margin-bottom: 0.5em;}#sk-container-id-1 div.sk-estimator:hover {background-color: #d4ebff;}#sk-container-id-1 div.sk-parallel-item::after {content: \"\";width: 100%;border-bottom: 1px solid gray;flex-grow: 1;}#sk-container-id-1 div.sk-label:hover label.sk-toggleable__label {background-color: #d4ebff;}#sk-container-id-1 div.sk-serial::before {content: \"\";position: absolute;border-left: 1px solid gray;box-sizing: border-box;top: 0;bottom: 0;left: 50%;z-index: 0;}#sk-container-id-1 div.sk-serial {display: flex;flex-direction: column;align-items: center;background-color: white;padding-right: 0.2em;padding-left: 0.2em;position: relative;}#sk-container-id-1 div.sk-item {position: relative;z-index: 1;}#sk-container-id-1 div.sk-parallel {display: flex;align-items: stretch;justify-content: center;background-color: white;position: relative;}#sk-container-id-1 div.sk-item::before, #sk-container-id-1 div.sk-parallel-item::before {content: \"\";position: absolute;border-left: 1px solid gray;box-sizing: border-box;top: 0;bottom: 0;left: 50%;z-index: -1;}#sk-container-id-1 div.sk-parallel-item {display: flex;flex-direction: column;z-index: 1;position: relative;background-color: white;}#sk-container-id-1 div.sk-parallel-item:first-child::after {align-self: flex-end;width: 50%;}#sk-container-id-1 div.sk-parallel-item:last-child::after {align-self: flex-start;width: 50%;}#sk-container-id-1 div.sk-parallel-item:only-child::after {width: 0;}#sk-container-id-1 div.sk-dashed-wrapped {border: 1px dashed gray;margin: 0 0.4em 0.5em 0.4em;box-sizing: border-box;padding-bottom: 0.4em;background-color: white;}#sk-container-id-1 div.sk-label label {font-family: monospace;font-weight: bold;display: inline-block;line-height: 1.2em;}#sk-container-id-1 div.sk-label-container {text-align: center;}#sk-container-id-1 div.sk-container {/* jupyter's `normalize.less` sets `[hidden] { display: none; }` but bootstrap.min.css set `[hidden] { display: none !important; }` so we also need the `!important` here to be able to override the default hidden behavior on the sphinx rendered scikit-learn.org. See: https://github.com/scikit-learn/scikit-learn/issues/21755 */display: inline-block !important;position: relative;}#sk-container-id-1 div.sk-text-repr-fallback {display: none;}</style><div id=\"sk-container-id-1\" class=\"sk-top-container\"><div class=\"sk-text-repr-fallback\"><pre>LinearRegression()</pre><b>In a Jupyter environment, please rerun this cell to show the HTML representation or trust the notebook. <br />On GitHub, the HTML representation is unable to render, please try loading this page with nbviewer.org.</b></div><div class=\"sk-container\" hidden><div class=\"sk-item\"><div class=\"sk-estimator sk-toggleable\"><input class=\"sk-toggleable__control sk-hidden--visually\" id=\"sk-estimator-id-1\" type=\"checkbox\" checked><label for=\"sk-estimator-id-1\" class=\"sk-toggleable__label sk-toggleable__label-arrow\">LinearRegression</label><div class=\"sk-toggleable__content\"><pre>LinearRegression()</pre></div></div></div></div></div>"
            ]
          },
          "metadata": {},
          "execution_count": 6
        }
      ]
    },
    {
      "cell_type": "markdown",
      "source": [
        "# Evaluate the Model"
      ],
      "metadata": {
        "id": "sqnX9PZNtTJq"
      }
    },
    {
      "cell_type": "code",
      "source": [
        "y_pred = model.predict(X_test)\n",
        "\n",
        "# Calculate mean squared error\n",
        "mse = mean_squared_error(y_test, y_pred)\n",
        "print(\"Mean Squared Error:\", mse)\n",
        "\n",
        "# Calculate R-squared\n",
        "r2 = r2_score(y_test, y_pred)\n",
        "print(\"R-squared:\", r2)\n"
      ],
      "metadata": {
        "colab": {
          "base_uri": "https://localhost:8080/"
        },
        "id": "hg_c8fOqtURA",
        "outputId": "6a0686e4-f1ee-4c0e-aebf-64b3f16f5b7d"
      },
      "execution_count": 7,
      "outputs": [
        {
          "output_type": "stream",
          "name": "stdout",
          "text": [
            "Mean Squared Error: 9.22109039307778\n",
            "R-squared: 0.5997023481233722\n"
          ]
        }
      ]
    },
    {
      "cell_type": "markdown",
      "source": [
        "# Visualize Results"
      ],
      "metadata": {
        "id": "_unEvrMjtYjR"
      }
    },
    {
      "cell_type": "code",
      "source": [
        "plt.scatter(y_test, y_pred)\n",
        "plt.xlabel(\"Actual Selling Price\")\n",
        "plt.ylabel(\"Predicted Selling Price\")\n",
        "plt.title(\"Actual vs. Predicted Selling Price\")\n",
        "plt.show()\n"
      ],
      "metadata": {
        "colab": {
          "base_uri": "https://localhost:8080/",
          "height": 472
        },
        "id": "pFiCqPXJtZzs",
        "outputId": "496d74f6-2adc-4594-aada-dfe29ae562aa"
      },
      "execution_count": 8,
      "outputs": [
        {
          "output_type": "display_data",
          "data": {
            "text/plain": [
              "<Figure size 640x480 with 1 Axes>"
            ],
            "image/png": "[encoded data removed]"
          },
          "metadata": {}
        }
      ]
    },
    {
      "cell_type": "markdown",
      "source": [
        "# Save the Mode"
      ],
      "metadata": {
        "id": "Nh8Heb2Qtctw"
      }
    },
    {
      "cell_type": "code",
      "source": [
        "import joblib\n",
        "\n",
        "# Save the model\n",
        "joblib.dump(model, 'car_price_prediction_model.pkl')\n",
        "\n",
        "# Load the model\n",
        "# model = joblib.load('car_price_prediction_model.pkl')\n"
      ],
      "metadata": {
        "colab": {
          "base_uri": "https://localhost:8080/"
        },
        "id": "IW_czrBGtgbD",
        "outputId": "087615c8-4eb7-4125-c195-8491568f2381"
      },
      "execution_count": 9,
      "outputs": [
        {
          "output_type": "execute_result",
          "data": {
            "text/plain": [
              "['car_price_prediction_model.pkl']"
            ]
          },
          "metadata": {},
          "execution_count": 9
        }
      ]
    },
    {
      "cell_type": "markdown",
      "source": [
        "\n",
        "# **Explanation of the Car Price Prediction Project**"
      ],
      "metadata": {
        "id": "QCbJ51oIuaGC"
      }
    },
    {
      "cell_type": "markdown",
      "source": [
        "\n",
        "The Car Price Prediction Project focuses on building a machine learning model to predict the selling price of cars based on various factors such as brand reputation, car features, horsepower, mileage, and other relevant attributes. Here's a detailed explanation of the project:\n",
        "\n",
        "#### Understanding the Problem\n",
        "The project aims to address the challenge of predicting car prices accurately, which is crucial for both buyers and sellers in the automotive market. By leveraging machine learning techniques, we can develop a predictive model that estimates the selling price of a car based on its characteristics.\n",
        "\n",
        "#### Data Exploration\n",
        "The project begins with exploring the provided dataset containing information about cars, including their features and selling prices. Through data exploration, we aim to understand the distribution of features, identify any patterns or correlations, and gain insights into the relationships between the features and the target variable (selling price).\n",
        "\n",
        "#### Data Preprocessing\n",
        "Before training the machine learning model, we preprocess the dataset to ensure its quality and compatibility with the model. This involves handling missing values, encoding categorical variables, scaling numerical features, and performing any necessary transformations to prepare the data for training.\n",
        "\n",
        "#### Feature Engineering\n",
        "To improve the model's predictive performance, we may perform feature engineering by extracting relevant features from the existing dataset or creating new features based on domain knowledge. This step helps in capturing additional information that may be useful for predicting car prices more accurately.\n",
        "\n",
        "#### Model Selection and Training\n",
        "Next, we select an appropriate machine learning algorithm for regression tasks, considering factors such as model complexity, interpretability, and predictive performance. We train the selected model using the preprocessed data, optimizing its hyperparameters to achieve the best possible performance.\n",
        "\n",
        "#### Model Evaluation\n",
        "Once the model is trained, we evaluate its performance using appropriate metrics such as mean squared error (MSE) and R-squared. These metrics help assess how well the model predicts car prices compared to the actual selling prices in the dataset. Additionally, we may visualize the model's performance using scatter plots or other visualization techniques.\n",
        "\n",
        "#### Interpretation and Insights\n",
        "After evaluating the model, we interpret its coefficients or feature importances to understand which features have the most significant impact on predicting car prices. This analysis provides valuable insights into the factors driving car prices in the market, helping buyers and sellers make informed decisions.\n",
        "\n",
        "#### Deployment and Documentation\n",
        "If applicable, we deploy the trained model in a production environment, making it accessible for real-world use. Additionally, we document the entire process, including data preprocessing steps, model training details, evaluation results, and insights gained from the analysis. This documentation ensures transparency and reproducibility of the project's findings.\n",
        "\n",
        "#### Continuous Improvement\n",
        "Finally, we iterate on the model based on feedback and new data, continuously improving its performance and relevance to real-world scenarios. By monitoring its performance over time and incorporating new insights, we ensure that the model remains effective in predicting car prices accurately.\n",
        "\n",
        "In summary, the Car Price Prediction Project aims to develop a robust and reliable machine learning model for predicting car prices, providing valuable assistance to buyers, sellers, and other stakeholders in the automotive industry. Through careful data analysis, model training, and interpretation of results, the project contributes to better decision-making and informed choices in the car market."
      ],
      "metadata": {
        "id": "EfPP45RaubnC"
      }
    }
  ]
}